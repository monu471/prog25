{
 "cells": [
  {
   "cell_type": "code",
   "execution_count": 24,
   "id": "eac9cd6e",
   "metadata": {},
   "outputs": [],
   "source": [
    "# Question1\n",
    "# Create a function that takes three integer arguments (a, b, c) and returns the amount of integers which are of equal value.\n",
    "# Examples\n",
    "# equal(3, 4, 3) ➞ 2\n",
    "\n",
    "# equal(1, 1, 1) ➞ 3\n",
    "\n",
    "# equal(3, 4, 1) ➞ 0 \n",
    "# Notes\n",
    "# Your function must return 0, 2 or 3.\n",
    "\n",
    "def equal(a,b,c):\n",
    "    l= [a,b,c]\n",
    "    k = set(l)\n",
    "    c = []\n",
    "    if len(k)<len(l):\n",
    "        for i in k:\n",
    "            c.append(l.count(i))\n",
    "        m = sorted(c)    \n",
    "        for i in m:\n",
    "            return m[-1]\n",
    "    else:\n",
    "        return 0\n",
    "        "
   ]
  },
  {
   "cell_type": "code",
   "execution_count": 30,
   "id": "c8a896ff",
   "metadata": {},
   "outputs": [],
   "source": [
    "# Write a function that converts a dictionary into a list of keys-values tuples.\n",
    "# Examples\n",
    "# dict_to_list({\n",
    "#   \"D\": 1,\n",
    "#   \"B\": 2,\n",
    "#   \"C\": 3\n",
    "# }) ➞ [(\"B\", 2), (\"C\", 3), (\"D\", 1)]\n",
    "\n",
    "# dict_to_list({\n",
    "#   \"likes\": 2,\n",
    "#   \"dislikes\": 3,\n",
    "#   \"followers\": 10\n",
    "# }) ➞ [(\"dislikes\", 3), (\"followers\", 10), (\"likes\", 2)]\n",
    "# Notes\n",
    "# Return the elements in the list in alphabetical order.\n",
    "def dic_to_list(d):\n",
    "    l = []\n",
    "    for i in d.items():\n",
    "        l.append(i)\n",
    "    return sorted(l)    \n",
    "    \n"
   ]
  },
  {
   "cell_type": "code",
   "execution_count": 47,
   "id": "0e2adce9",
   "metadata": {},
   "outputs": [],
   "source": [
    "# Write a function that creates a dictionary with each (key, value) pair being the (lower case, upper case) versions of a letter, respectively.\n",
    "# Examples\n",
    "# mapping([\"p\", \"s\"]) ➞ { \"p\": \"P\", \"s\": \"S\" }\n",
    "\n",
    "# mapping([\"a\", \"b\", \"c\"]) ➞ { \"a\": \"A\", \"b\": \"B\", \"c\": \"C\" }\n",
    "\n",
    "# mapping([\"a\", \"v\", \"y\", \"z\"]) ➞ { \"a\": \"A\", \"v\": \"V\", \"y\": \"Y\", \"z\": \"Z\" }\n",
    "# Notes\n",
    "# All of the letters in the input list will always be lowercase.\n",
    "l = [\"p\",\"s\"]\n",
    "o = {}\n",
    "def mapping(l):\n",
    "    for i in l:\n",
    "        k= {i:i.upper()}\n",
    "        o.update(k)\n",
    "    return o"
   ]
  },
  {
   "cell_type": "code",
   "execution_count": 61,
   "id": "d4bf69ae",
   "metadata": {},
   "outputs": [],
   "source": [
    "# Question4\n",
    "# Write a function, that replaces all vowels in a string with a specified vowel.\n",
    "# Examples\n",
    "# vow_replace(\"apples and bananas\", \"u\") ➞ \"upplus und bununus\"\n",
    "\n",
    "# vow_replace(\"cheese casserole\", \"o\") ➞ \"chooso cossorolo\"\n",
    "\n",
    "# vow_replace(\"stuffed jalapeno poppers\", \"e\") ➞ \"steffed jelepene peppers\"\n",
    "# Notes\n",
    "# All words will be lowercase. Y is not considered a vowel.\n",
    "def vow_replace(a,b):\n",
    "    vowel = [\"a\",\"e\",\"i\",\"o\",\"u\"]\n",
    "    for i in a:\n",
    "        if i in vowel:\n",
    "            k = a.replace(i,b)\n",
    "    return k        \n",
    "             "
   ]
  },
  {
   "cell_type": "code",
   "execution_count": 82,
   "id": "081d668e",
   "metadata": {},
   "outputs": [],
   "source": [
    "# Question5\n",
    "# Create a function that takes a string as input and capitalizes a letter if its ASCII code is even and returns its lower case version if its ASCII code is odd.\n",
    "# Examples\n",
    "# ascii_capitalize(\"to be or not to be!\") ➞ \"To Be oR NoT To Be!\"\n",
    "\n",
    "# ascii_capitalize(\"THE LITTLE MERMAID\") ➞ \"THe LiTTLe meRmaiD\"\n",
    "\n",
    "# ascii_capitalize(\"Oh what a beautiful morning.\") ➞ \"oH wHaT a BeauTiFuL moRNiNg.\"\n",
    "def ascii_capitalize(k):\n",
    "    sum = \"\"ascii_capitalize(\"Oh what a beautiful morning.\")\n",
    "    for i in k :\n",
    "        if ord(i)%2 ==0:\n",
    "            sum = sum+ i.upper()   \n",
    "        elif ord(i)%2 !=0:\n",
    "            sum = sum + i.lower()\n",
    "        else:\n",
    "            sum = sum +i\n",
    "    return sum        \n",
    "                \n",
    "    \n"
   ]
  },
  {
   "cell_type": "code",
   "execution_count": null,
   "id": "9f9cea72",
   "metadata": {},
   "outputs": [],
   "source": []
  }
 ],
 "metadata": {
  "kernelspec": {
   "display_name": "Python 3 (ipykernel)",
   "language": "python",
   "name": "python3"
  },
  "language_info": {
   "codemirror_mode": {
    "name": "ipython",
    "version": 3
   },
   "file_extension": ".py",
   "mimetype": "text/x-python",
   "name": "python",
   "nbconvert_exporter": "python",
   "pygments_lexer": "ipython3",
   "version": "3.9.12"
  }
 },
 "nbformat": 4,
 "nbformat_minor": 5
}
